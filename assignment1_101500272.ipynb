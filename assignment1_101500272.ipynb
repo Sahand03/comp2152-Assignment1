{
 "cells": [
  {
   "cell_type": "code",
   "execution_count": 3,
   "id": "e92ac0f1-1648-49c2-9287-a7064fffd271",
   "metadata": {},
   "outputs": [
    {
     "name": "stdout",
     "output_type": "stream",
     "text": [
      "Yoga and running minutes for all friends: [[30, 45], [25, 50], [40, 35]]\n",
      "Weightlifting minutes for last two friends: [15, 30]\n"
     ]
    },
    {
     "name": "stdin",
     "output_type": "stream",
     "text": [
      "Enter a friend's name:  Jamie\n"
     ]
    },
    {
     "name": "stdout",
     "output_type": "stream",
     "text": [
      "Jamie's workout details:\n",
      "Yoga: 25 min, Running: 50 min, Weightlifting: 15 min\n",
      "Total minutes: 90\n",
      "Friend with highest total workout minutes: Taylor\n",
      "Friend with lowest total workout minutes: Jamie\n"
     ]
    }
   ],
   "source": [
    "\"\"\"\n",
    "Author: Sahand Afshar\n",
    "101500272\n",
    "Assignment: #1\n",
    "\"\"\"\n",
    "\n",
    "# Variables with data types\n",
    "\n",
    "gym_member = \"Alex Alliton\"  # str\n",
    "preferred_weight_kg = 20.5  # float\n",
    "highest_reps = 25  # int\n",
    "membership_active = True  # bool\n",
    "\n",
    "# Dictionary storing workout stats for friends\n",
    "# Data type: dict[str, tuple[int, int, int]]\n",
    "workout_stats = {\n",
    "    \"Alex\": (30, 45, 20),\n",
    "    \"Jamie\": (25, 50, 15),\n",
    "    \"Taylor\": (40, 35, 30)\n",
    "}\n",
    "\n",
    "# Calculate total workout minutes and add them to the dictionary\n",
    "for friend, activities in list(workout_stats.items()):  # Use list() to iterate over a copy\n",
    "    total_minutes = sum(activities)\n",
    "    workout_stats[f\"{friend}_Total\"] = total_minutes\n",
    "\n",
    "# Create a 2D list (nested list) with workout minutes for each friend\n",
    "# Data type: list[list[int]]\n",
    "workout_list = [list(activities) for activities in workout_stats.values() if isinstance(activities, tuple)]\n",
    "\n",
    "# Slicing workout_list\n",
    "# Extract yoga and running minutes for all friends\n",
    "yoga_running = [row[:2] for row in workout_list]\n",
    "print(\"Yoga and running minutes for all friends:\", yoga_running)\n",
    "\n",
    "# Extract weightlifting minutes for last two friends\n",
    "weightlifting_last_two = [row[2] for row in workout_list[-2:]]\n",
    "print(\"Weightlifting minutes for last two friends:\", weightlifting_last_two)\n",
    "\n",
    "# Check for friends with total workout >= 120 minutes\n",
    "for friend, total in workout_stats.items():\n",
    "    if isinstance(total, int) and total >= 120:\n",
    "        print(f\"Great job staying active, {friend.replace('_Total', '')}!\")\n",
    "\n",
    "# User input to check friend's workout details\n",
    "friend_name = input(\"Enter a friend's name: \")\n",
    "if friend_name in workout_stats:\n",
    "    activities = workout_stats[friend_name]\n",
    "    total_minutes = workout_stats.get(f\"{friend_name}_Total\", 0)\n",
    "    print(f\"{friend_name}'s workout details:\")\n",
    "    print(f\"Yoga: {activities[0]} min, Running: {activities[1]} min, Weightlifting: {activities[2]} min\")\n",
    "    print(f\"Total minutes: {total_minutes}\")\n",
    "else:\n",
    "    print(f\"Friend {friend_name} not found in the records.\")\n",
    "\n",
    "# Finding friend with highest and lowest total workout minutes\n",
    "friends_totals = {friend: total for friend, total in workout_stats.items() if isinstance(total, int)}\n",
    "highest_friend = max(friends_totals, key=friends_totals.get)\n",
    "lowest_friend = min(friends_totals, key=friends_totals.get)\n",
    "\n",
    "print(f\"Friend with highest total workout minutes: {highest_friend.replace('_Total', '')}\")\n",
    "print(f\"Friend with lowest total workout minutes: {lowest_friend.replace('_Total', '')}\")\n"
   ]
  },
  {
   "cell_type": "code",
   "execution_count": null,
   "id": "c310cb68-b36f-4b79-ad38-db892203788e",
   "metadata": {},
   "outputs": [],
   "source": []
  }
 ],
 "metadata": {
  "kernelspec": {
   "display_name": "Python 3 (ipykernel)",
   "language": "python",
   "name": "python3"
  },
  "language_info": {
   "codemirror_mode": {
    "name": "ipython",
    "version": 3
   },
   "file_extension": ".py",
   "mimetype": "text/x-python",
   "name": "python",
   "nbconvert_exporter": "python",
   "pygments_lexer": "ipython3",
   "version": "3.13.1"
  }
 },
 "nbformat": 4,
 "nbformat_minor": 5
}
